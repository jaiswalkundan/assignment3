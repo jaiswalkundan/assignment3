{
 "cells": [
  {
   "cell_type": "code",
   "execution_count": null,
   "id": "6619771e-4331-4e98-947a-d50df99a2d24",
   "metadata": {},
   "outputs": [],
   "source": [
    "Q1. Which keyword is used to create a function? Create a function to return a list of odd numbers in the\n",
    "range of 1 to 25."
   ]
  },
  {
   "cell_type": "code",
   "execution_count": 1,
   "id": "20ea9bc0-6719-41b7-9167-2032aaac81c9",
   "metadata": {},
   "outputs": [
    {
     "name": "stdout",
     "output_type": "stream",
     "text": [
      "[1, 3, 5, 7, 9, 11, 13, 15, 17, 19, 21, 23, 25]\n"
     ]
    }
   ],
   "source": [
    "def odd_numbers():\n",
    "    return [num for num in range(1,26) if num % 2!=0]\n",
    "result = odd_numbers()\n",
    "print(result)"
   ]
  },
  {
   "cell_type": "code",
   "execution_count": null,
   "id": "3d5cd355-7e8d-49b2-aa9c-b19ecd9cb151",
   "metadata": {},
   "outputs": [],
   "source": [
    "Q2. Why *args and **kwargs is used in some functions? Create a function each for *args and **kwargs\n",
    "to demonstrate their use."
   ]
  },
  {
   "cell_type": "markdown",
   "id": "153c3782-2254-4c21-9e79-1b287a2ac39a",
   "metadata": {},
   "source": [
    "*args=allow a function to accept any number of positional arguments. \n",
    "**Kwargs:allow a function to accept any number of keyword arguments."
   ]
  },
  {
   "cell_type": "code",
   "execution_count": 4,
   "id": "d109bab9-ba01-4e24-a66e-a3588d8727b5",
   "metadata": {},
   "outputs": [
    {
     "name": "stdout",
     "output_type": "stream",
     "text": [
      "1\n",
      "hello\n",
      "[3, 4, 5]\n"
     ]
    }
   ],
   "source": [
    "def example_function_with_args(*args):\n",
    "    for arg in args:\n",
    "        print(arg)\n",
    "example_function_with_args(1, 'hello',[3,4,5])        "
   ]
  },
  {
   "cell_type": "code",
   "execution_count": 5,
   "id": "a904af9b-b86a-4854-a447-16e2e099a5c1",
   "metadata": {},
   "outputs": [
    {
     "name": "stdout",
     "output_type": "stream",
     "text": [
      "name:john\n",
      "age:25\n",
      "city:New York\n"
     ]
    }
   ],
   "source": [
    "def example_function_with_kwargs(**kwargs):\n",
    "    for key, value in kwargs.items():\n",
    "        print(f\"{key}:{value}\")\n",
    "example_function_with_kwargs(name='john' , age=25, city='New York')\n"
   ]
  },
  {
   "cell_type": "code",
   "execution_count": null,
   "id": "c1a9786c-783e-431e-8ab2-340b87630ad7",
   "metadata": {},
   "outputs": [],
   "source": [
    "Q3. What is an iterator in python? Name the method used to initialise the iterator object and the method\n",
    "used for iteration. Use these methods to print the first five elements of the given list [2, 4, 6, 8, 10, 12, 14,\n",
    "16, 18, 20]."
   ]
  },
  {
   "cell_type": "code",
   "execution_count": 6,
   "id": "5f83501e-c846-4213-8e01-bf00427106ed",
   "metadata": {},
   "outputs": [],
   "source": [
    "my_list=[2,4,6,8,10,12,14,16,18,20]\n",
    "my_iterator=iter(my_list)\n"
   ]
  },
  {
   "cell_type": "code",
   "execution_count": 7,
   "id": "911e5218-c02f-4233-a146-7a76fd49b4b4",
   "metadata": {},
   "outputs": [
    {
     "name": "stdout",
     "output_type": "stream",
     "text": [
      "2\n",
      "4\n",
      "6\n",
      "8\n",
      "10\n"
     ]
    }
   ],
   "source": [
    "for _ in range(5):\n",
    "    print(next(my_iterator))"
   ]
  },
  {
   "cell_type": "code",
   "execution_count": null,
   "id": "5089d794-1b92-46cb-ba53-2c3b1e2b6514",
   "metadata": {},
   "outputs": [],
   "source": [
    "Q4. What is a generator function in python? Why yield keyword is used? Give an example of a generator\n",
    "function."
   ]
  },
  {
   "cell_type": "markdown",
   "id": "162db8c8-029b-452a-ba95-bd58898e7304",
   "metadata": {},
   "source": [
    "A generator function in python is a special type of function that allows you to iterate over a potentially large set of data without creating the entire set in memory at once it use to yield keyword to produce a sequence of value"
   ]
  },
  {
   "cell_type": "code",
   "execution_count": 10,
   "id": "b43373e2-6016-4cd1-a157-075ff2e7d808",
   "metadata": {},
   "outputs": [],
   "source": [
    "def countdown(n):\n",
    "    while n>0:\n",
    "        yield n\n",
    "        n -=1\n"
   ]
  },
  {
   "cell_type": "code",
   "execution_count": 11,
   "id": "ef23ddcc-d80d-429d-ad64-9635fd0c4455",
   "metadata": {},
   "outputs": [
    {
     "name": "stdout",
     "output_type": "stream",
     "text": [
      "5\n",
      "4\n",
      "3\n",
      "2\n",
      "1\n"
     ]
    }
   ],
   "source": [
    "for number in countdown(5):\n",
    "    print(number)"
   ]
  },
  {
   "cell_type": "code",
   "execution_count": null,
   "id": "13e3eedb-6667-49b5-b077-59c8c2a7b882",
   "metadata": {},
   "outputs": [],
   "source": [
    "Q5. Create a generator function for prime numbers less than 1000. Use the next() method to print the\n",
    "first 20 prime numbers."
   ]
  },
  {
   "cell_type": "code",
   "execution_count": 13,
   "id": "378fb98f-1ad0-41cf-96a5-0bb52e2df98a",
   "metadata": {},
   "outputs": [],
   "source": [
    "def is_prime(num):\n",
    "    if num <2:\n",
    "        return False\n",
    "    for i in range(2,int(num**0.5)+1):\n",
    "        if num % i == 0:\n",
    "            return False\n",
    "    return True\n",
    "def primes_generator():\n",
    "    num=2\n",
    "    count=0\n",
    "    while count <20:\n",
    "        if is_prime(num):\n",
    "            yield num \n",
    "            count +=1\n",
    "        num +=1    \n",
    "    "
   ]
  },
  {
   "cell_type": "code",
   "execution_count": 14,
   "id": "63c0a721-ee62-486d-ab33-c41a002aca4d",
   "metadata": {},
   "outputs": [
    {
     "name": "stdout",
     "output_type": "stream",
     "text": [
      "2\n",
      "3\n",
      "5\n",
      "7\n",
      "11\n",
      "13\n",
      "17\n",
      "19\n",
      "23\n",
      "29\n",
      "31\n",
      "37\n",
      "41\n",
      "43\n",
      "47\n",
      "53\n",
      "59\n",
      "61\n",
      "67\n",
      "71\n"
     ]
    }
   ],
   "source": [
    "prime_gen=primes_generator()\n",
    "for _ in range(20):\n",
    "    print(next(prime_gen))"
   ]
  },
  {
   "cell_type": "code",
   "execution_count": null,
   "id": "194bdd91-659e-4f67-a23e-72a9ae62e5b1",
   "metadata": {},
   "outputs": [],
   "source": [
    "Q6. Write a python program to print the first 10 Fibonacci numbers using a while loop.\n"
   ]
  },
  {
   "cell_type": "code",
   "execution_count": 15,
   "id": "884bd666-974d-4ca7-b334-d3b1af30abe6",
   "metadata": {},
   "outputs": [],
   "source": [
    "def fibonacci_sequence(n):\n",
    "    fib_sequence=[]\n",
    "    a,b=0,1\n",
    "    \n",
    "    while len(fib_sequence)<n:\n",
    "        fib_sequence.append(a)\n",
    "        a,b = b, a+b\n",
    "    return fib_sequence    "
   ]
  },
  {
   "cell_type": "code",
   "execution_count": 16,
   "id": "9229f51e-f259-4631-8182-6412d1c36718",
   "metadata": {},
   "outputs": [
    {
     "name": "stdout",
     "output_type": "stream",
     "text": [
      "[0, 1, 1, 2, 3, 5, 8, 13, 21, 34]\n"
     ]
    }
   ],
   "source": [
    "first_10_fibonacci=fibonacci_sequence(10)\n",
    "print(first_10_fibonacci)"
   ]
  },
  {
   "cell_type": "code",
   "execution_count": null,
   "id": "a7a1171b-54b1-49d7-b195-0b1d7371e30c",
   "metadata": {},
   "outputs": [],
   "source": [
    "Q7. Write a List Comprehension to iterate through the given string: ‘pwskills’.\n",
    "Expected output: ['p', 'w', 's', 'k', 'i', 'l', 'l', 's']"
   ]
  },
  {
   "cell_type": "code",
   "execution_count": 17,
   "id": "a53357fe-ee77-4b5c-a553-42cbdd1b9518",
   "metadata": {},
   "outputs": [],
   "source": [
    "input_string='pwskills'\n",
    "output_list=[char for char in input_string if char in 'pwskills']\n"
   ]
  },
  {
   "cell_type": "code",
   "execution_count": 18,
   "id": "2aa181b3-9235-468f-bdb1-a058e8be8c70",
   "metadata": {},
   "outputs": [
    {
     "name": "stdout",
     "output_type": "stream",
     "text": [
      "['p', 'w', 's', 'k', 'i', 'l', 'l', 's']\n"
     ]
    }
   ],
   "source": [
    "print(output_list)"
   ]
  },
  {
   "cell_type": "code",
   "execution_count": null,
   "id": "9ac2f719-be6c-4297-a428-a3d7af46ba6b",
   "metadata": {},
   "outputs": [],
   "source": [
    "Q8. Write a python program to check whether a given number is Palindrome or not using a while loop."
   ]
  },
  {
   "cell_type": "code",
   "execution_count": 19,
   "id": "8dcaf279-04f7-48cd-8284-a866fa7ed579",
   "metadata": {},
   "outputs": [],
   "source": [
    "def is_palindrome(number):\n",
    "    original_number= number\n",
    "    reversed_number=0\n",
    "    \n",
    "    while number >0:\n",
    "        digit = number%10\n",
    "        reversed_number= reversed_number*10+digit\n",
    "        number = number//10\n",
    "        \n",
    "    return original_number == reversed_number    "
   ]
  },
  {
   "cell_type": "code",
   "execution_count": 20,
   "id": "4fb3e525-7250-472f-8474-4e91d9e0d095",
   "metadata": {},
   "outputs": [
    {
     "name": "stdin",
     "output_type": "stream",
     "text": [
      "Enter a number:  5\n"
     ]
    },
    {
     "name": "stdout",
     "output_type": "stream",
     "text": [
      "5 is a palindrome.\n"
     ]
    }
   ],
   "source": [
    "user_input= int(input(\"Enter a number: \"))\n",
    "if is_palindrome(user_input):\n",
    "    print(f\"{user_input} is a palindrome.\")\n",
    "else:\n",
    "    print(f\"{user_input} is not a palindrome.\")"
   ]
  },
  {
   "cell_type": "code",
   "execution_count": null,
   "id": "d7ec34e2-3cfc-4874-aa6a-5f105d64f495",
   "metadata": {},
   "outputs": [],
   "source": [
    "Write a code to print odd numbers from 1 to 100 using list comprehension."
   ]
  },
  {
   "cell_type": "code",
   "execution_count": null,
   "id": "164cf336-336e-456b-b1b4-b1c4db6b4fba",
   "metadata": {},
   "outputs": [],
   "source": [
    "odd_numbers=[num for num in range(1,101) if num%"
   ]
  }
 ],
 "metadata": {
  "kernelspec": {
   "display_name": "Python 3 (ipykernel)",
   "language": "python",
   "name": "python3"
  },
  "language_info": {
   "codemirror_mode": {
    "name": "ipython",
    "version": 3
   },
   "file_extension": ".py",
   "mimetype": "text/x-python",
   "name": "python",
   "nbconvert_exporter": "python",
   "pygments_lexer": "ipython3",
   "version": "3.10.8"
  }
 },
 "nbformat": 4,
 "nbformat_minor": 5
}
